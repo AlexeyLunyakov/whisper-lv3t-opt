{
 "cells": [
  {
   "cell_type": "markdown",
   "metadata": {},
   "source": [
    "Machine config:\n",
    "\n",
    "**CUDA 12.4, GPU: AD104 12GB VRAM, CPU: 12/24 4.4**"
   ]
  },
  {
   "cell_type": "code",
   "execution_count": null,
   "metadata": {},
   "outputs": [],
   "source": [
    "import torch\n",
    "device = \"cuda:0\" if torch.cuda.is_available() else \"cpu\""
   ]
  },
  {
   "cell_type": "markdown",
   "metadata": {},
   "source": [
    "### Baseline FP16"
   ]
  },
  {
   "cell_type": "code",
   "execution_count": null,
   "metadata": {},
   "outputs": [],
   "source": [
    "from transformers import AutoModelForSpeechSeq2Seq, AutoProcessor, pipeline\n",
    "from datasets import load_dataset"
   ]
  },
  {
   "cell_type": "code",
   "execution_count": null,
   "metadata": {},
   "outputs": [],
   "source": [
    "torch_dtype = torch.float16 if torch.cuda.is_available() else torch.float32"
   ]
  },
  {
   "cell_type": "code",
   "execution_count": null,
   "metadata": {},
   "outputs": [],
   "source": [
    "def splitter(n, s):\n",
    "    pieces = s.split()\n",
    "    return (\" \".join(pieces[i:i+n]) for i in range(0, len(pieces), n))"
   ]
  },
  {
   "cell_type": "code",
   "execution_count": null,
   "metadata": {},
   "outputs": [],
   "source": [
    "model_id = \"openai/whisper-large-v3-turbo\"\n",
    "model = AutoModelForSpeechSeq2Seq.from_pretrained(\n",
    "    model_id, torch_dtype=torch_dtype, low_cpu_mem_usage=True, use_safetensors=True\n",
    ")\n",
    "model.to(device)\n",
    "\n",
    "processor = AutoProcessor.from_pretrained(model_id)\n",
    "\n",
    "pipe = pipeline(\n",
    "    \"automatic-speech-recognition\",\n",
    "    model=model,\n",
    "    tokenizer=processor.tokenizer,\n",
    "    feature_extractor=processor.feature_extractor,\n",
    "    torch_dtype=torch_dtype,\n",
    "    device=device,\n",
    "    return_timestamps=True\n",
    ")\n",
    "\n",
    "dataset = load_dataset(\"distil-whisper/librispeech_long\", \"clean\", split=\"validation\")\n",
    "sample = dataset[0][\"audio\"]\n",
    "\n",
    "result = pipe(sample)\n",
    "print('\\n\\n')\n",
    "for n in splitter(15, result[\"text\"]):\n",
    "    print(n)"
   ]
  },
  {
   "cell_type": "markdown",
   "metadata": {},
   "source": [
    "----"
   ]
  },
  {
   "cell_type": "markdown",
   "metadata": {},
   "source": [
    "### ONNX-optimum"
   ]
  },
  {
   "cell_type": "markdown",
   "metadata": {},
   "source": [
    "ONNX conversion (FP16)"
   ]
  },
  {
   "cell_type": "code",
   "execution_count": null,
   "metadata": {},
   "outputs": [],
   "source": [
    "from optimum.onnxruntime import ORTModelForSpeechSeq2Seq\n",
    "from transformers import AutoProcessor\n",
    "\n",
    "model_id = \"openai/whisper-large-v3-turbo\"\n",
    "processor = AutoProcessor.from_pretrained(model_id)\n",
    "\n",
    "# Export encoder and decoder to ONNX\n",
    "model = ORTModelForSpeechSeq2Seq.from_pretrained(\n",
    "    model_id,\n",
    "    export=True,\n",
    "    provider=\"CUDAExecutionProvider\" if torch.cuda.is_available() else \"CPUExecutionProvider\"\n",
    ")\n",
    "model.save_pretrained(\"whisper_lv3t_onnx_v3\")\n",
    "processor.save_pretrained(\"whisper_lv3t_onnx_v3\")"
   ]
  },
  {
   "cell_type": "markdown",
   "metadata": {},
   "source": [
    "Optimization"
   ]
  },
  {
   "cell_type": "code",
   "execution_count": null,
   "metadata": {},
   "outputs": [],
   "source": [
    "import onnx\n",
    "import onnxoptimizer\n",
    "\n",
    "onnx_model = onnx.load(\"onnxf/whisper_lv3t_onnx_v3/encoder_model.onnx\")\n",
    "\n",
    "passes = [\"fuse_bn_into_conv\", \"eliminate_unused_initializer\"]\n",
    "optimized_model = onnxoptimizer.optimize(onnx_model, passes)\n",
    "\n",
    "onnx.save(optimized_model, \"onnxf/whisper_lv3t_onnx_v3/encoder_optimized.onnx\")"
   ]
  },
  {
   "cell_type": "markdown",
   "metadata": {},
   "source": [
    "Quantization (Int8)"
   ]
  },
  {
   "cell_type": "code",
   "execution_count": null,
   "metadata": {},
   "outputs": [],
   "source": [
    "# -- will be here soon --"
   ]
  },
  {
   "cell_type": "markdown",
   "metadata": {},
   "source": [
    "---"
   ]
  },
  {
   "cell_type": "markdown",
   "metadata": {},
   "source": [
    "### ONNX-optimum v2"
   ]
  },
  {
   "cell_type": "code",
   "execution_count": null,
   "metadata": {},
   "outputs": [],
   "source": [
    "from pathlib import Path\n",
    "from optimum.onnxruntime import (\n",
    "    AutoQuantizationConfig,\n",
    "    ORTModelForSpeechSeq2Seq,\n",
    "    ORTQuantizer\n",
    ")\n",
    "from onnxruntime.quantization import QuantType"
   ]
  },
  {
   "cell_type": "code",
   "execution_count": null,
   "metadata": {},
   "outputs": [],
   "source": [
    "model_id = \"openai/whisper-large-v3-turbo\"\n",
    "processor = AutoProcessor.from_pretrained(model_id)"
   ]
  },
  {
   "cell_type": "markdown",
   "metadata": {},
   "source": [
    "ONNX conversion (FP16)"
   ]
  },
  {
   "cell_type": "code",
   "execution_count": null,
   "metadata": {},
   "outputs": [],
   "source": [
    "model = ORTModelForSpeechSeq2Seq.from_pretrained(\n",
    "    model_id, \n",
    "    export=True,\n",
    "    provider=\"CUDAExecutionProvider\",\n",
    ")\n",
    "model_dir = model.model_save_dir\n",
    "\n",
    "onnx_models = list(Path(model_dir).glob(\"*.onnx\"))\n",
    "# print(onnx_models)\n",
    "quantizers = [ORTQuantizer.from_pretrained(model_dir, file_name=onnx_model) for onnx_model in onnx_models]"
   ]
  },
  {
   "cell_type": "markdown",
   "metadata": {},
   "source": [
    "AutoQuantizationConfig, avc512_vnni + custom QuantType to QUInt8"
   ]
  },
  {
   "cell_type": "code",
   "execution_count": null,
   "metadata": {},
   "outputs": [],
   "source": [
    "qconfig = AutoQuantizationConfig.avx512_vnni(is_static=False, per_channel=False)\n",
    "qconfig.weights_dtype = QuantType.QUInt8\n",
    "\n",
    "for quantizer in quantizers:\n",
    "    quantizer.quantize(save_dir=\"onnxf/whisper_lv3t_onnx_v1\", quantization_config=qconfig)"
   ]
  },
  {
   "cell_type": "markdown",
   "metadata": {},
   "source": [
    "----"
   ]
  }
 ],
 "metadata": {
  "kernelspec": {
   "display_name": ".venv",
   "language": "python",
   "name": "python3"
  },
  "language_info": {
   "codemirror_mode": {
    "name": "ipython",
    "version": 3
   },
   "file_extension": ".py",
   "mimetype": "text/x-python",
   "name": "python",
   "nbconvert_exporter": "python",
   "pygments_lexer": "ipython3",
   "version": "3.11.7"
  }
 },
 "nbformat": 4,
 "nbformat_minor": 2
}
